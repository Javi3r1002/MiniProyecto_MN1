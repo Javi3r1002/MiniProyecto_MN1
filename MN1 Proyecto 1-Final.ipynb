{
 "cells": [
  {
   "cell_type": "markdown",
   "id": "380762ba",
   "metadata": {},
   "source": [
    "# <center>Determinación de la constante de proporcionalidad de la fuerza de resistencia del aire en objetos esféricos mediante el método de bisección"
   ]
  },
  {
   "cell_type": "markdown",
   "id": "0fd0f6ad",
   "metadata": {},
   "source": [
    "## <center>Proyecto 1 - Funciones No Lineales  "
   ]
  },
  {
   "cell_type": "code",
   "execution_count": 1,
   "id": "897eed81",
   "metadata": {},
   "outputs": [],
   "source": [
    "# Importando librerías a utilizar\n",
    "from pylab import *\n",
    "import pandas as pd\n",
    "import sympy as sy\n",
    "from sympy import *\n",
    "from sympy.utilities.lambdify import lambdify, implemented_function\n",
    "import timeit\n",
    "import tracemalloc\n",
    "import matplotlib.pyplot as plt\n",
    "\n",
    "\n",
    "\n",
    "#Definiendo “x” como símbolo\n",
    "S = sy.symbols('S')"
   ]
  },
  {
   "cell_type": "markdown",
   "id": "0bef3de5",
   "metadata": {},
   "source": [
    "### Definición de los métodos numéricos para ecuaciones no lineales. Raíces de ecuaciones."
   ]
  },
  {
   "cell_type": "code",
   "execution_count": 2,
   "id": "bf298221",
   "metadata": {},
   "outputs": [],
   "source": [
    "# Método de Bisección (Abierto)\n",
    "# (a,b) representan el intervalo\n",
    "\n",
    "\n",
    "def Biseccion(f, a, b, error = 0.00001):\n",
    "    \n",
    "    start = timeit.default_timer()\n",
    "    xl = a\n",
    "    xu = b\n",
    "    xr = (a+b)/2\n",
    "    ea = 100 #Error Aproximado\n",
    "    i =0\n",
    "    \n",
    "    Lista_xl = [xl]\n",
    "    Lista_xu = [xu]\n",
    "    Lista_xr = [xr]\n",
    "    Lista_fxl = [f.subs(S,xl)]\n",
    "    Lista_fxu = [f.subs(S,xu)]\n",
    "    Lista_fxr = [f.subs(S,xr)]\n",
    "    Error = [ea]\n",
    "    \n",
    "    \n",
    "    while ea > error:\n",
    "        if f.subs(S,xl)*f.subs(S,xr)<0:\n",
    "            xu = xr\n",
    "        elif f.subs(S,xr)*f.subs(S,xu)<0:\n",
    "            xl = xr\n",
    "        else:\n",
    "            break\n",
    "           \n",
    "        xr_old = xr\n",
    "        xr = (xl+xu)/2\n",
    "        ea = abs((xr-xr_old)/xr)*100\n",
    "        i +=1\n",
    "        \n",
    "        Lista_xl.append(xl)\n",
    "        Lista_xu.append(xu)\n",
    "        Lista_xr.append(xr)\n",
    "        Lista_fxl.append(f.subs(S,xl))\n",
    "        Lista_fxu.append(f.subs(S,xu))\n",
    "        Lista_fxr.append(f.subs(S,xr))\n",
    "        Error.append(ea)\n",
    "    \n",
    "    Tabla = pd.DataFrame((zip(Lista_xl, Lista_xr, Lista_xu, Lista_fxl, Lista_fxr, Lista_fxu, Error)), columns = ['Xl', 'Solución Xr', 'Xu', 'f(Xl)', 'f(Xr)', 'f(Xu)', 'Error (%)'])\n",
    "    \n",
    "    end = timeit.default_timer()\n",
    "    return xr, len(Lista_xr),(-start+end)"
   ]
  },
  {
   "cell_type": "markdown",
   "id": "f9dd9973",
   "metadata": {},
   "source": [
    "### Constantes y datos experimentales durante la experimentación  \n",
    "\n",
    "Datos experimentales de posición y tiempos para las alturas 1 y 2."
   ]
  },
  {
   "cell_type": "code",
   "execution_count": 3,
   "id": "01bbe20e",
   "metadata": {},
   "outputs": [],
   "source": [
    "g = 9.8\n",
    "\n",
    "t1 = [0.883, 0.850, 0.867, 0.883, 0.900,\\\n",
    "      0.917, 0.933, 0.950, 0.967, 0.983,\\\n",
    "      1.000, 1.017, 1.033, 1.050, 1.067,\\\n",
    "      1.083, 1.100, 1.117, 1.133, 1.167,\\\n",
    "      1.183, 1.200, 1.217, 1.233, 1.250]\n",
    "\n",
    "y1 = [2.314, 2.378, 2.448, 2.514, 2.584,\\\n",
    "      2.655, 2.721, 2.792, 2.863, 2.930,\\\n",
    "      3.001, 3.072, 3.139, 3.211, 3.282,\\\n",
    "      3.350, 3.421, 3.493, 3.561, 3.704,\\\n",
    "      3.772, 3.844, 3.916, 3.984, 4.056]\n",
    "\n",
    "t2 = [0.500, 0.517, 0.533, 0.550, 0.567,\\\n",
    "      0.583, 0.600, 0.617, 0.633, 0.650,\\\n",
    "      0.667, 0.683, 0.700, 0.717, 0.733,\\\n",
    "      0.750, 0.767, 0.783, 0.800, 0.817,\\\n",
    "      0.833, 0.850, 0.867, 0.883, 0.900,\\\n",
    "      0.917, 0.933, 0.950, 0.967, 0.983,\\\n",
    "      1.000, 1.017, 1.033, 1.050, 1.067,\\\n",
    "      1.083, 1.100, 1.117, 1.133, 1.150,\\\n",
    "      1.167, 1.183, 1.200, 1.217, 1.233,\\\n",
    "      1.250, 1.267, 1.283, 1.300, 1.317,\\\n",
    "      1.333, 1.350, 1.367, 1.383, 1.400,\\\n",
    "      1.417, 1.433, 1.450, 1.467, 1.483,\\\n",
    "      1.500, 1.517, 1.533, 1.550, 1.567,\\\n",
    "      1.583, 1.600, 1.617, 1.633, 1.650,\\\n",
    "      1.667, 1.683, 1.700, 1.717, 1.733,\\\n",
    "      1.750, 1.767]\n",
    "\n",
    "y2 = [1.010, 1.069, 1.124, 1.184, 1.245,\\\n",
    "      1.302, 1.364, 1.426, 1.486, 1.549,\\\n",
    "      1.613, 1.673, 1.738, 1.803, 1.864,\\\n",
    "      1.910, 1.996, 2.058, 2.124, 2.191,\\\n",
    "      2.254, 2.321, 2.388, 2.452, 2.519,\\\n",
    "      2.587, 2.651, 2.719, 2.787, 2.851,\\\n",
    "      2.920, 2.988, 3.052, 3.121, 3.190,\\\n",
    "      3.254, 3.323, 3.392, 3.456, 3.525,\\\n",
    "      3.594, 3.659, 3.728, 3.797, 3.862,\\\n",
    "      3.932, 4.001, 4.066, 4.135, 4.204,\\\n",
    "      4.269, 4.339, 4.408, 4.473, 4.542,\\\n",
    "      4.612, 4.677, 4.746, 4.816, 4.881,\\\n",
    "      4.950, 5.020, 5.085, 5.154, 5.224,\\\n",
    "      5.290, 5.358, 5.428, 5.493, 5.563,\\\n",
    "      5.632, 5.697, 5.767, 5.836, 5.902,\\\n",
    "      5.971, 6.041]"
   ]
  },
  {
   "cell_type": "markdown",
   "id": "a1351582",
   "metadata": {},
   "source": [
    "## Solución Mediante Bisección  \n"
   ]
  },
  {
   "cell_type": "code",
   "execution_count": 4,
   "id": "b7004b04",
   "metadata": {
    "scrolled": true
   },
   "outputs": [
    {
     "name": "stdout",
     "output_type": "stream",
     "text": [
      "Memoria actual:  0.5611 ; Pico:  0.5895\n",
      "Memoria actual:  1.1036 ; Pico:  1.112\n",
      "Memoria actual:  1.533 ; Pico:  1.551\n",
      "Memoria actual:  1.7708 ; Pico:  1.8012\n",
      "Memoria actual:  2.0711 ; Pico:  2.0795\n",
      "Memoria actual:  2.2043 ; Pico:  2.2613\n",
      "Memoria actual:  2.3969 ; Pico:  2.4553\n",
      "Memoria actual:  2.5732 ; Pico:  2.6306\n",
      "Memoria actual:  2.7274 ; Pico:  2.7788\n",
      "Memoria actual:  2.8829 ; Pico:  2.9378\n",
      "Memoria actual:  3.06 ; Pico:  3.0685\n",
      "Memoria actual:  3.2278 ; Pico:  3.2436\n",
      "Memoria actual:  3.3686 ; Pico:  3.393\n",
      "Memoria actual:  3.5334 ; Pico:  3.5431\n",
      "Memoria actual:  3.658 ; Pico:  3.6949\n",
      "Memoria actual:  3.8149 ; Pico:  3.8491\n",
      "Memoria actual:  3.9686 ; Pico:  4.0254\n",
      "Memoria actual:  4.1126 ; Pico:  4.1822\n",
      "Memoria actual:  4.2756 ; Pico:  4.3252\n",
      "Memoria actual:  4.4151 ; Pico:  4.4894\n",
      "Memoria actual:  4.6079 ; Pico:  4.6568\n",
      "Memoria actual:  4.7315 ; Pico:  4.7631\n",
      "Memoria actual:  4.8946 ; Pico:  4.9419\n",
      "Memoria actual:  5.0773 ; Pico:  5.0858\n",
      "Memoria actual:  5.1741 ; Pico:  5.201\n"
     ]
    }
   ],
   "source": [
    "S1 = []\n",
    "T1 = []\n",
    "M1 = []\n",
    "for j in range(len(y1)):\n",
    "    y = y1[j]\n",
    "    t = t1[j]\n",
    "    f = y-(2*g/S) * (2/S* sy.ln((e**(S*t)+1)/2)-t) #Función\n",
    "    tracemalloc.start()\n",
    "    valor, NI, TE = Biseccion(f,2,10)\n",
    "    T1.append(TE)\n",
    "    actual, pico = tracemalloc.get_traced_memory()\n",
    "    #Byte a Megabyte\n",
    "    print('Memoria actual: ', round(actual/(1024**2),4), \"; Pico: \", round(pico/(1024**2),4))\n",
    "    M1.append(((pico/1024**2)-(actual/1024**2)))\n",
    "    tracemalloc.reset_peak()\n",
    "    S1.append(valor)\n",
    "tracemalloc.stop()"
   ]
  },
  {
   "cell_type": "code",
   "execution_count": 5,
   "id": "7e84f4c7",
   "metadata": {},
   "outputs": [
    {
     "data": {
      "text/plain": [
       "4.614306869506836"
      ]
     },
     "execution_count": 5,
     "metadata": {},
     "output_type": "execute_result"
    }
   ],
   "source": [
    "np.mean(S1)"
   ]
  },
  {
   "cell_type": "code",
   "execution_count": 6,
   "id": "a0c97de3",
   "metadata": {},
   "outputs": [
    {
     "data": {
      "text/plain": [
       "0.1377000172912422"
      ]
     },
     "execution_count": 6,
     "metadata": {},
     "output_type": "execute_result"
    }
   ],
   "source": [
    "np.std(S1)"
   ]
  },
  {
   "cell_type": "code",
   "execution_count": 7,
   "id": "b0a81ef0",
   "metadata": {},
   "outputs": [
    {
     "data": {
      "text/plain": [
       "0.27090812799999997"
      ]
     },
     "execution_count": 7,
     "metadata": {},
     "output_type": "execute_result"
    }
   ],
   "source": [
    "np.mean(T1)"
   ]
  },
  {
   "cell_type": "code",
   "execution_count": 8,
   "id": "8b4dad60",
   "metadata": {},
   "outputs": [
    {
     "data": {
      "image/png": "[encoded data removed]",
      "text/plain": [
       "<Figure size 432x288 with 1 Axes>"
      ]
     },
     "metadata": {
      "needs_background": "light"
     },
     "output_type": "display_data"
    }
   ],
   "source": [
    "R = np.arange(1,len(S1)+1,1)\n",
    "\n",
    "plt.plot(R,S1)\n",
    "plt.title('Valor de la constante de proporcionalidad contra el número de medición')\n",
    "plt.xlabel('Número de medición')\n",
    "plt.ylabel('Valor de constante de proporcionalidad')\n",
    "plt.show()\n"
   ]
  },
  {
   "cell_type": "code",
   "execution_count": 9,
   "id": "c1893fca",
   "metadata": {},
   "outputs": [
    {
     "data": {
      "image/png": "[encoded data removed]",
      "text/plain": [
       "<Figure size 432x288 with 1 Axes>"
      ]
     },
     "metadata": {
      "needs_background": "light"
     },
     "output_type": "display_data"
    }
   ],
   "source": [
    "plt.boxplot(M1)\n",
    "plt.ylabel('Mega Byte')\n",
    "plt.title('Uso máximo de memoria al utilizar el método de bisección para el primer grupo de mediciones')\n",
    "plt.show()"
   ]
  },
  {
   "cell_type": "code",
   "execution_count": 30,
   "id": "7e19ed61",
   "metadata": {},
   "outputs": [
    {
     "name": "stdout",
     "output_type": "stream",
     "text": [
      "Memoria actual:  0.4702 ; Pico:  0.4776\n",
      "Memoria actual:  0.7061 ; Pico:  0.7345\n",
      "Memoria actual:  0.9753 ; Pico:  0.9988\n",
      "Memoria actual:  1.3178 ; Pico:  1.3257\n",
      "Memoria actual:  1.4757 ; Pico:  1.5324\n",
      "Memoria actual:  1.6337 ; Pico:  1.6835\n",
      "Memoria actual:  1.7799 ; Pico:  1.7993\n",
      "Memoria actual:  1.9292 ; Pico:  1.941\n",
      "Memoria actual:  2.015 ; Pico:  2.081\n",
      "Memoria actual:  2.2082 ; Pico:  2.2735\n",
      "Memoria actual:  2.3351 ; Pico:  2.3987\n",
      "Memoria actual:  2.4525 ; Pico:  2.5149\n",
      "Memoria actual:  2.5791 ; Pico:  2.6868\n",
      "Memoria actual:  2.7269 ; Pico:  2.7487\n",
      "Memoria actual:  2.8411 ; Pico:  2.8692\n",
      "Memoria actual:  2.993 ; Pico:  3.0009\n",
      "Memoria actual:  3.0421 ; Pico:  3.105\n",
      "Memoria actual:  3.1719 ; Pico:  3.2312\n",
      "Memoria actual:  3.2944 ; Pico:  3.3447\n",
      "Memoria actual:  3.4037 ; Pico:  3.4736\n",
      "Memoria actual:  3.5168 ; Pico:  3.5857\n",
      "Memoria actual:  3.7996 ; Pico:  3.8382\n",
      "Memoria actual:  3.9072 ; Pico:  3.9293\n",
      "Memoria actual:  3.9993 ; Pico:  4.0521\n",
      "Memoria actual:  4.0904 ; Pico:  4.1551\n",
      "Memoria actual:  4.191 ; Pico:  4.2573\n",
      "Memoria actual:  4.2926 ; Pico:  4.3544\n",
      "Memoria actual:  4.3877 ; Pico:  4.4153\n",
      "Memoria actual:  4.4322 ; Pico:  4.4923\n",
      "Memoria actual:  4.4821 ; Pico:  4.5574\n",
      "Memoria actual:  4.5338 ; Pico:  4.6021\n",
      "Memoria actual:  4.6681 ; Pico:  4.676\n",
      "Memoria actual:  4.7029 ; Pico:  4.7336\n",
      "Memoria actual:  4.7539 ; Pico:  4.7984\n",
      "Memoria actual:  4.8162 ; Pico:  4.8596\n",
      "Memoria actual:  4.8715 ; Pico:  4.937\n",
      "Memoria actual:  4.9378 ; Pico:  4.982\n",
      "Memoria actual:  4.9323 ; Pico:  5.0137\n",
      "Memoria actual:  4.9487 ; Pico:  5.0236\n",
      "Memoria actual:  4.9656 ; Pico:  5.0375\n",
      "Memoria actual:  5.0178 ; Pico:  5.0495\n",
      "Memoria actual:  5.0098 ; Pico:  5.0737\n",
      "Memoria actual:  5.006 ; Pico:  5.0839\n",
      "Memoria actual:  5.0562 ; Pico:  5.0978\n",
      "Memoria actual:  5.0438 ; Pico:  5.1045\n",
      "Memoria actual:  5.0433 ; Pico:  5.1253\n",
      "Memoria actual:  5.1207 ; Pico:  5.137\n",
      "Memoria actual:  5.1056 ; Pico:  5.1426\n",
      "Memoria actual:  5.1409 ; Pico:  5.1746\n",
      "Memoria actual:  5.13 ; Pico:  5.1726\n",
      "Memoria actual:  5.1368 ; Pico:  5.1811\n",
      "Memoria actual:  5.1322 ; Pico:  5.2066\n",
      "Memoria actual:  5.1363 ; Pico:  5.219\n",
      "Memoria actual:  5.1452 ; Pico:  5.2711\n",
      "Memoria actual:  5.2269 ; Pico:  5.2443\n",
      "Memoria actual:  5.2122 ; Pico:  5.2535\n",
      "Memoria actual:  5.235 ; Pico:  5.2703\n",
      "Memoria actual:  5.2163 ; Pico:  5.2833\n",
      "Memoria actual:  5.2075 ; Pico:  5.2935\n",
      "Memoria actual:  5.2916 ; Pico:  5.3416\n",
      "Memoria actual:  5.2581 ; Pico:  5.3078\n",
      "Memoria actual:  5.253 ; Pico:  5.3148\n",
      "Memoria actual:  5.2477 ; Pico:  5.3254\n",
      "Memoria actual:  5.2579 ; Pico:  5.3338\n",
      "Memoria actual:  5.2988 ; Pico:  5.3394\n",
      "Memoria actual:  5.3178 ; Pico:  5.3588\n",
      "Memoria actual:  5.3014 ; Pico:  5.3605\n",
      "Memoria actual:  5.3155 ; Pico:  5.3779\n",
      "Memoria actual:  5.3107 ; Pico:  5.388\n",
      "Memoria actual:  5.3789 ; Pico:  5.3968\n",
      "Memoria actual:  5.3627 ; Pico:  5.4118\n",
      "Memoria actual:  5.3634 ; Pico:  5.4373\n",
      "Memoria actual:  5.3543 ; Pico:  5.4186\n",
      "Memoria actual:  5.3462 ; Pico:  5.4251\n",
      "Memoria actual:  5.4198 ; Pico:  5.4436\n",
      "Memoria actual:  5.4021 ; Pico:  5.4409\n",
      "Memoria actual:  5.3785 ; Pico:  5.4722\n"
     ]
    }
   ],
   "source": [
    "S2 = []\n",
    "T2 = []\n",
    "M2 = []\n",
    "for j in range(len(y2)):\n",
    "    y = y2[j]\n",
    "    t = t2[j]\n",
    "    f = y-(2*g/S) * (2/S* sy.ln((e**(S*t)+1)/2)-t) #Función\n",
    "    tracemalloc.start()\n",
    "    valor,NI,TE = Biseccion(f,2,10)\n",
    "    T2.append(TE)\n",
    "    actual, pico = tracemalloc.get_traced_memory()\n",
    "    M2.append(((pico/1024**2)-(actual/1024**2)))\n",
    "    print('Memoria actual: ', round(actual/(1024**2),4), \"; Pico: \", round(pico/(1024**2),4))\n",
    "    tracemalloc.reset_peak()\n",
    "    S2.append(valor)\n",
    "tracemalloc.stop()"
   ]
  },
  {
   "cell_type": "code",
   "execution_count": 31,
   "id": "76e0aad1",
   "metadata": {},
   "outputs": [
    {
     "data": {
      "text/plain": [
       "4.797288219650071"
      ]
     },
     "execution_count": 31,
     "metadata": {},
     "output_type": "execute_result"
    }
   ],
   "source": [
    "np.mean(S2)"
   ]
  },
  {
   "cell_type": "code",
   "execution_count": 32,
   "id": "81793df0",
   "metadata": {},
   "outputs": [
    {
     "data": {
      "text/plain": [
       "0.011398869653024772"
      ]
     },
     "execution_count": 32,
     "metadata": {},
     "output_type": "execute_result"
    }
   ],
   "source": [
    "np.std(S2)"
   ]
  },
  {
   "cell_type": "code",
   "execution_count": 33,
   "id": "9f84e217",
   "metadata": {},
   "outputs": [
    {
     "data": {
      "text/plain": [
       "0.2550876246753248"
      ]
     },
     "execution_count": 33,
     "metadata": {},
     "output_type": "execute_result"
    }
   ],
   "source": [
    "np.mean(T2)"
   ]
  },
  {
   "cell_type": "code",
   "execution_count": 34,
   "id": "cf8da836",
   "metadata": {},
   "outputs": [
    {
     "data": {
      "image/png": "[encoded data removed]",
      "text/plain": [
       "<Figure size 432x288 with 1 Axes>"
      ]
     },
     "metadata": {
      "needs_background": "light"
     },
     "output_type": "display_data"
    }
   ],
   "source": [
    "R = np.arange(1,len(S2)+1,1)\n",
    "\n",
    "plt.plot(R,S2)\n",
    "plt.title('Valor de la constante de proporcionalidad contra el número de medición')\n",
    "plt.xlabel('Número de medición')\n",
    "plt.ylabel('Valor de constante de proporcionalidad')\n",
    "plt.show()"
   ]
  },
  {
   "cell_type": "code",
   "execution_count": 35,
   "id": "2a9cfb92",
   "metadata": {},
   "outputs": [
    {
     "data": {
      "image/png": "[encoded data removed]",
      "text/plain": [
       "<Figure size 432x288 with 1 Axes>"
      ]
     },
     "metadata": {
      "needs_background": "light"
     },
     "output_type": "display_data"
    }
   ],
   "source": [
    "plt.boxplot(M2)\n",
    "plt.ylabel('Mega Byte')\n",
    "plt.title('Uso máximo de memoria al utilizar el método de bisección para el segundo grupo de mediciones')\n",
    "plt.show()"
   ]
  },
  {
   "cell_type": "markdown",
   "id": "0d413096",
   "metadata": {},
   "source": [
    "## Método Abierto: Newton"
   ]
  },
  {
   "cell_type": "code",
   "execution_count": 36,
   "id": "693778fa",
   "metadata": {},
   "outputs": [],
   "source": [
    "F = y-(2*g/S) * (2/S* sy.ln((e**(S*t)+1)/2)-t)\n",
    "dF = diff(F,S)\n",
    "\n",
    "fun = lambdify(S, F)\n",
    "dfun = lambdify(S, dF)\n"
   ]
  },
  {
   "cell_type": "code",
   "execution_count": 37,
   "id": "ac6109a5",
   "metadata": {},
   "outputs": [],
   "source": [
    "def Newton(xo,ea):\n",
    "    start = timeit.default_timer()\n",
    "    M = []\n",
    "    NI = []\n",
    "    XR = []\n",
    "    XL = []\n",
    "    XU = []\n",
    "    FL = []\n",
    "    FR = []\n",
    "    FU = []\n",
    "    EA = []\n",
    "    Meto = 0\n",
    "    \n",
    "    Ea = 100\n",
    "    while Ea > ea:\n",
    "        Xr = xo - fun(xo)/dfun(xo)\n",
    "        xo = Xr\n",
    "        XR.append(Xr)\n",
    "\n",
    "\n",
    "        if len(XR) <= 1:\n",
    "            EA.append(Ea)\n",
    "        else:\n",
    "            Ea = (abs(XR[-1]-XR[-2])/XR[-1])*100\n",
    "            EA.append(Ea)\n",
    "\n",
    "    Biseccion = list(zip(XR,EA))\n",
    "    Df = pd.DataFrame(Biseccion)\n",
    "    Df.columns = [ 'XR', 'EA']\n",
    "    \n",
    "    end = timeit.default_timer()\n",
    "    return XR[-1], len(XR),(end-start)\n",
    "    "
   ]
  },
  {
   "cell_type": "code",
   "execution_count": 38,
   "id": "dd121f8c",
   "metadata": {},
   "outputs": [
    {
     "name": "stdout",
     "output_type": "stream",
     "text": [
      "Memoria actual:  0.0019 ; Pico:  0.006\n",
      "Memoria actual:  0.0279 ; Pico:  0.0326\n",
      "Memoria actual:  0.0531 ; Pico:  0.0578\n",
      "Memoria actual:  0.0565 ; Pico:  0.0612\n",
      "Memoria actual:  0.0729 ; Pico:  0.0793\n",
      "Memoria actual:  0.0936 ; Pico:  0.0983\n",
      "Memoria actual:  0.1137 ; Pico:  0.1183\n",
      "Memoria actual:  0.1347 ; Pico:  0.1393\n",
      "Memoria actual:  0.1557 ; Pico:  0.1603\n",
      "Memoria actual:  0.1769 ; Pico:  0.1815\n",
      "Memoria actual:  0.1975 ; Pico:  0.2031\n",
      "Memoria actual:  0.2177 ; Pico:  0.2223\n",
      "Memoria actual:  0.2372 ; Pico:  0.2434\n",
      "Memoria actual:  0.2547 ; Pico:  0.2594\n",
      "Memoria actual:  0.2744 ; Pico:  0.279\n",
      "Memoria actual:  0.2877 ; Pico:  0.2923\n",
      "Memoria actual:  0.3083 ; Pico:  0.3135\n",
      "Memoria actual:  0.3286 ; Pico:  0.3332\n",
      "Memoria actual:  0.3487 ; Pico:  0.3534\n",
      "Memoria actual:  0.368 ; Pico:  0.3726\n",
      "Memoria actual:  0.3898 ; Pico:  0.3944\n",
      "Memoria actual:  0.412 ; Pico:  0.4166\n",
      "Memoria actual:  0.4264 ; Pico:  0.431\n",
      "Memoria actual:  0.4462 ; Pico:  0.4509\n",
      "Memoria actual:  0.4644 ; Pico:  0.469\n"
     ]
    }
   ],
   "source": [
    "S3 = []\n",
    "T3 = []\n",
    "M3 = []\n",
    "for j in range(len(y1)):\n",
    "    y = y1[j]\n",
    "    t = t1[j]\n",
    "    f = y-(2*g/S) * (2/S* sy.ln((e**(S*t)+1)/2)-t) #Función\n",
    "    tracemalloc.start()\n",
    "    valor,NI,TE = Newton(3,.00000001)\n",
    "    T3.append(TE)\n",
    "    actual, pico = tracemalloc.get_traced_memory()\n",
    "    print('Memoria actual: ', round(actual/(1024**2),4), \"; Pico: \", round(pico/(1024**2),4))\n",
    "    M3.append(((pico/1024**2)-(actual/1024**2)))\n",
    "    tracemalloc.reset_peak()\n",
    "    S3.append(valor)\n",
    "tracemalloc.stop()"
   ]
  },
  {
   "cell_type": "code",
   "execution_count": 39,
   "id": "ec13802e",
   "metadata": {},
   "outputs": [
    {
     "data": {
      "text/plain": [
       "4.795351544165967"
      ]
     },
     "execution_count": 39,
     "metadata": {},
     "output_type": "execute_result"
    }
   ],
   "source": [
    "np.mean(S3)"
   ]
  },
  {
   "cell_type": "code",
   "execution_count": 40,
   "id": "2b7055f0",
   "metadata": {},
   "outputs": [
    {
     "data": {
      "text/plain": [
       "0.0"
      ]
     },
     "execution_count": 40,
     "metadata": {},
     "output_type": "execute_result"
    }
   ],
   "source": [
    "np.std(S3)"
   ]
  },
  {
   "cell_type": "code",
   "execution_count": 41,
   "id": "6634cb62",
   "metadata": {},
   "outputs": [
    {
     "data": {
      "text/plain": [
       "0.0015250160000005054"
      ]
     },
     "execution_count": 41,
     "metadata": {},
     "output_type": "execute_result"
    }
   ],
   "source": [
    "np.mean(T3)"
   ]
  },
  {
   "cell_type": "code",
   "execution_count": 42,
   "id": "6457c20c",
   "metadata": {},
   "outputs": [
    {
     "data": {
      "image/png": "[encoded data removed]",
      "text/plain": [
       "<Figure size 432x288 with 1 Axes>"
      ]
     },
     "metadata": {
      "needs_background": "light"
     },
     "output_type": "display_data"
    }
   ],
   "source": [
    "R = np.arange(1,len(S3)+1,1)\n",
    "\n",
    "plt.plot(R,S3)\n",
    "plt.title('Valor de la constante de proporcionalidad contra el número de medición')\n",
    "plt.xlabel('Número de medición')\n",
    "plt.ylabel('Valor de constante de proporcionalidad')\n",
    "plt.show()"
   ]
  },
  {
   "cell_type": "code",
   "execution_count": 43,
   "id": "cf3556ca",
   "metadata": {},
   "outputs": [
    {
     "data": {
      "image/png": "[encoded data removed]",
      "text/plain": [
       "<Figure size 432x288 with 1 Axes>"
      ]
     },
     "metadata": {
      "needs_background": "light"
     },
     "output_type": "display_data"
    }
   ],
   "source": [
    "plt.boxplot(M3)\n",
    "plt.ylabel('Mega Byte')\n",
    "plt.title('Uso máximo de memoria al utilizar el método de Newton para el primer grupo de mediciones')\n",
    "plt.show()"
   ]
  },
  {
   "cell_type": "code",
   "execution_count": 44,
   "id": "6a2531b8",
   "metadata": {},
   "outputs": [
    {
     "name": "stdout",
     "output_type": "stream",
     "text": [
      "Memoria actual:  0.0017 ; Pico:  0.0058\n",
      "Memoria actual:  0.0052 ; Pico:  0.0093\n",
      "Memoria actual:  0.0075 ; Pico:  0.0116\n",
      "Memoria actual:  0.0098 ; Pico:  0.0139\n",
      "Memoria actual:  0.0121 ; Pico:  0.0162\n",
      "Memoria actual:  0.0144 ; Pico:  0.0186\n",
      "Memoria actual:  0.0164 ; Pico:  0.0209\n",
      "Memoria actual:  0.0183 ; Pico:  0.0228\n",
      "Memoria actual:  0.0202 ; Pico:  0.0247\n",
      "Memoria actual:  0.0221 ; Pico:  0.0267\n",
      "Memoria actual:  0.0239 ; Pico:  0.0286\n",
      "Memoria actual:  0.0262 ; Pico:  0.0308\n",
      "Memoria actual:  0.0281 ; Pico:  0.0327\n",
      "Memoria actual:  0.0109 ; Pico:  0.0154\n",
      "Memoria actual:  0.0113 ; Pico:  0.0158\n",
      "Memoria actual:  0.0118 ; Pico:  0.0162\n",
      "Memoria actual:  0.0136 ; Pico:  0.0182\n",
      "Memoria actual:  0.0156 ; Pico:  0.0202\n",
      "Memoria actual:  0.0174 ; Pico:  0.0221\n",
      "Memoria actual:  0.0193 ; Pico:  0.0239\n",
      "Memoria actual:  0.0211 ; Pico:  0.0257\n",
      "Memoria actual:  0.0229 ; Pico:  0.0275\n",
      "Memoria actual:  0.0129 ; Pico:  0.0175\n",
      "Memoria actual:  0.0148 ; Pico:  0.0194\n",
      "Memoria actual:  0.0167 ; Pico:  0.0212\n",
      "Memoria actual:  0.0149 ; Pico:  0.0194\n",
      "Memoria actual:  0.0167 ; Pico:  0.0213\n",
      "Memoria actual:  0.0185 ; Pico:  0.0231\n",
      "Memoria actual:  0.0203 ; Pico:  0.025\n",
      "Memoria actual:  0.0223 ; Pico:  0.0269\n",
      "Memoria actual:  0.0241 ; Pico:  0.0287\n",
      "Memoria actual:  0.0163 ; Pico:  0.0209\n",
      "Memoria actual:  0.0182 ; Pico:  0.0228\n",
      "Memoria actual:  0.0162 ; Pico:  0.0208\n",
      "Memoria actual:  0.0181 ; Pico:  0.0227\n",
      "Memoria actual:  0.0199 ; Pico:  0.0245\n",
      "Memoria actual:  0.0217 ; Pico:  0.0264\n",
      "Memoria actual:  0.0236 ; Pico:  0.0282\n",
      "Memoria actual:  0.0254 ; Pico:  0.03\n",
      "Memoria actual:  0.0272 ; Pico:  0.0318\n",
      "Memoria actual:  0.0291 ; Pico:  0.0337\n",
      "Memoria actual:  0.0311 ; Pico:  0.0358\n",
      "Memoria actual:  0.033 ; Pico:  0.0376\n",
      "Memoria actual:  0.0348 ; Pico:  0.0394\n",
      "Memoria actual:  0.0366 ; Pico:  0.0413\n",
      "Memoria actual:  0.0195 ; Pico:  0.024\n",
      "Memoria actual:  0.0214 ; Pico:  0.026\n",
      "Memoria actual:  0.0232 ; Pico:  0.0278\n",
      "Memoria actual:  0.025 ; Pico:  0.0296\n",
      "Memoria actual:  0.0269 ; Pico:  0.0315\n",
      "Memoria actual:  0.0201 ; Pico:  0.0246\n",
      "Memoria actual:  0.0222 ; Pico:  0.0267\n",
      "Memoria actual:  0.0242 ; Pico:  0.0287\n",
      "Memoria actual:  0.0263 ; Pico:  0.0309\n",
      "Memoria actual:  0.0281 ; Pico:  0.0328\n",
      "Memoria actual:  0.0232 ; Pico:  0.0277\n",
      "Memoria actual:  0.0237 ; Pico:  0.0282\n",
      "Memoria actual:  0.0255 ; Pico:  0.0302\n",
      "Memoria actual:  0.0274 ; Pico:  0.032\n",
      "Memoria actual:  0.0238 ; Pico:  0.0283\n",
      "Memoria actual:  0.0248 ; Pico:  0.0294\n",
      "Memoria actual:  0.0267 ; Pico:  0.0313\n",
      "Memoria actual:  0.0286 ; Pico:  0.0332\n",
      "Memoria actual:  0.0305 ; Pico:  0.0351\n",
      "Memoria actual:  0.0324 ; Pico:  0.037\n",
      "Memoria actual:  0.0348 ; Pico:  0.0395\n",
      "Memoria actual:  0.0367 ; Pico:  0.0413\n",
      "Memoria actual:  0.0386 ; Pico:  0.0432\n",
      "Memoria actual:  0.0404 ; Pico:  0.0451\n",
      "Memoria actual:  0.0274 ; Pico:  0.0319\n",
      "Memoria actual:  0.0293 ; Pico:  0.0339\n",
      "Memoria actual:  0.0312 ; Pico:  0.0358\n",
      "Memoria actual:  0.033 ; Pico:  0.0377\n",
      "Memoria actual:  0.0349 ; Pico:  0.0395\n",
      "Memoria actual:  0.0368 ; Pico:  0.0414\n",
      "Memoria actual:  0.0292 ; Pico:  0.0337\n",
      "Memoria actual:  0.0312 ; Pico:  0.0357\n"
     ]
    }
   ],
   "source": [
    "S4 = []\n",
    "T4 = []\n",
    "M5 = []\n",
    "for j in range(len(y2)):\n",
    "    y = y2[j]\n",
    "    t = t2[j]\n",
    "    tracemalloc.start()\n",
    "    valor,NI,TE = Newton(3,.00000001)\n",
    "    T4.append(TE)\n",
    "    actual, pico = tracemalloc.get_traced_memory()\n",
    "    print('Memoria actual: ', round(actual/(1024**2),4), \"; Pico: \", round(pico/(1024**2),4))\n",
    "    M5.append(((pico/1024**2)-(actual/1024**2)))\n",
    "    tracemalloc.reset_peak()\n",
    "    S4.append(valor)\n",
    "tracemalloc.stop()"
   ]
  },
  {
   "cell_type": "code",
   "execution_count": 45,
   "id": "d40b770b",
   "metadata": {},
   "outputs": [
    {
     "data": {
      "text/plain": [
       "4.795351544165966"
      ]
     },
     "execution_count": 45,
     "metadata": {},
     "output_type": "execute_result"
    }
   ],
   "source": [
    "np.mean(S4)"
   ]
  },
  {
   "cell_type": "code",
   "execution_count": 46,
   "id": "abe3f891",
   "metadata": {},
   "outputs": [
    {
     "data": {
      "text/plain": [
       "8.881784197001252e-16"
      ]
     },
     "execution_count": 46,
     "metadata": {},
     "output_type": "execute_result"
    }
   ],
   "source": [
    "np.std(S4)"
   ]
  },
  {
   "cell_type": "code",
   "execution_count": 47,
   "id": "a5da2966",
   "metadata": {},
   "outputs": [
    {
     "data": {
      "text/plain": [
       "0.0012360999999998512"
      ]
     },
     "execution_count": 47,
     "metadata": {},
     "output_type": "execute_result"
    }
   ],
   "source": [
    "np.mean(TE)"
   ]
  },
  {
   "cell_type": "code",
   "execution_count": 48,
   "id": "20bf7484",
   "metadata": {},
   "outputs": [
    {
     "data": {
      "image/png": "[encoded data removed]",
      "text/plain": [
       "<Figure size 432x288 with 1 Axes>"
      ]
     },
     "metadata": {
      "needs_background": "light"
     },
     "output_type": "display_data"
    }
   ],
   "source": [
    "R = np.arange(1,len(S4)+1,1)\n",
    "\n",
    "plt.plot(R,S4)\n",
    "plt.title('Valor de la constante de proporcionalidad contra el número de medición')\n",
    "plt.xlabel('Número de medición')\n",
    "plt.ylabel('Valor de constante de proporcionalidad')\n",
    "plt.show()"
   ]
  },
  {
   "cell_type": "code",
   "execution_count": 49,
   "id": "abcc01f5",
   "metadata": {},
   "outputs": [
    {
     "data": {
      "image/png": "[encoded data removed]",
      "text/plain": [
       "<Figure size 432x288 with 1 Axes>"
      ]
     },
     "metadata": {
      "needs_background": "light"
     },
     "output_type": "display_data"
    }
   ],
   "source": [
    "plt.boxplot(M5)\n",
    "plt.ylabel('Mega Byte')\n",
    "plt.title('Uso máximo de memoria al utilizar el método de Newton para el primer grupo de mediciones')\n",
    "plt.show()"
   ]
  }
 ],
 "metadata": {
  "kernelspec": {
   "display_name": "Python 3 (ipykernel)",
   "language": "python",
   "name": "python3"
  },
  "language_info": {
   "codemirror_mode": {
    "name": "ipython",
    "version": 3
   },
   "file_extension": ".py",
   "mimetype": "text/x-python",
   "name": "python",
   "nbconvert_exporter": "python",
   "pygments_lexer": "ipython3",
   "version": "3.9.6"
  }
 },
 "nbformat": 4,
 "nbformat_minor": 5
}
